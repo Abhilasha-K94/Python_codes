{
 "cells": [
  {
   "cell_type": "code",
   "execution_count": 13,
   "id": "c278f0c9",
   "metadata": {},
   "outputs": [],
   "source": [
    "fruit ={\"apple\",\"banana\",\"cherry\"}\n",
    "\n"
   ]
  },
  {
   "cell_type": "code",
   "execution_count": 19,
   "id": "9cc63981",
   "metadata": {},
   "outputs": [
    {
     "name": "stdout",
     "output_type": "stream",
     "text": [
      "apple\n",
      "banana\n",
      "cherry\n"
     ]
    }
   ],
   "source": [
    "for x in fruit:\n",
    "    print(x)"
   ]
  },
  {
   "cell_type": "code",
   "execution_count": 21,
   "id": "e7f5a0cd",
   "metadata": {},
   "outputs": [],
   "source": [
    "set_data = {34, 67, 22, 45, 90}"
   ]
  },
  {
   "cell_type": "code",
   "execution_count": 22,
   "id": "5db263c5",
   "metadata": {},
   "outputs": [
    {
     "data": {
      "text/plain": [
       "{22, 34, 45, 67, 90}"
      ]
     },
     "execution_count": 22,
     "metadata": {},
     "output_type": "execute_result"
    }
   ],
   "source": [
    "set_data"
   ]
  },
  {
   "cell_type": "code",
   "execution_count": 23,
   "id": "94e75993",
   "metadata": {},
   "outputs": [
    {
     "data": {
      "text/plain": [
       "set"
      ]
     },
     "execution_count": 23,
     "metadata": {},
     "output_type": "execute_result"
    }
   ],
   "source": [
    "type(set_data)"
   ]
  },
  {
   "cell_type": "code",
   "execution_count": 24,
   "id": "21d9c4fc",
   "metadata": {},
   "outputs": [
    {
     "data": {
      "text/plain": [
       "['__and__',\n",
       " '__class__',\n",
       " '__class_getitem__',\n",
       " '__contains__',\n",
       " '__delattr__',\n",
       " '__dir__',\n",
       " '__doc__',\n",
       " '__eq__',\n",
       " '__format__',\n",
       " '__ge__',\n",
       " '__getattribute__',\n",
       " '__gt__',\n",
       " '__hash__',\n",
       " '__iand__',\n",
       " '__init__',\n",
       " '__init_subclass__',\n",
       " '__ior__',\n",
       " '__isub__',\n",
       " '__iter__',\n",
       " '__ixor__',\n",
       " '__le__',\n",
       " '__len__',\n",
       " '__lt__',\n",
       " '__ne__',\n",
       " '__new__',\n",
       " '__or__',\n",
       " '__rand__',\n",
       " '__reduce__',\n",
       " '__reduce_ex__',\n",
       " '__repr__',\n",
       " '__ror__',\n",
       " '__rsub__',\n",
       " '__rxor__',\n",
       " '__setattr__',\n",
       " '__sizeof__',\n",
       " '__str__',\n",
       " '__sub__',\n",
       " '__subclasshook__',\n",
       " '__xor__',\n",
       " 'add',\n",
       " 'clear',\n",
       " 'copy',\n",
       " 'difference',\n",
       " 'difference_update',\n",
       " 'discard',\n",
       " 'intersection',\n",
       " 'intersection_update',\n",
       " 'isdisjoint',\n",
       " 'issubset',\n",
       " 'issuperset',\n",
       " 'pop',\n",
       " 'remove',\n",
       " 'symmetric_difference',\n",
       " 'symmetric_difference_update',\n",
       " 'union',\n",
       " 'update']"
      ]
     },
     "execution_count": 24,
     "metadata": {},
     "output_type": "execute_result"
    }
   ],
   "source": [
    "dir(set_data)"
   ]
  },
  {
   "cell_type": "code",
   "execution_count": 25,
   "id": "eb4b514e",
   "metadata": {},
   "outputs": [
    {
     "name": "stdout",
     "output_type": "stream",
     "text": [
      "{34, 67, 22, 90, 45}\n"
     ]
    }
   ],
   "source": [
    "print(set_data)"
   ]
  },
  {
   "cell_type": "code",
   "execution_count": 26,
   "id": "c07e0cc6",
   "metadata": {},
   "outputs": [],
   "source": [
    "s={'qwert'}"
   ]
  },
  {
   "cell_type": "code",
   "execution_count": 27,
   "id": "c5f662fe",
   "metadata": {},
   "outputs": [
    {
     "data": {
      "text/plain": [
       "{'qwert'}"
      ]
     },
     "execution_count": 27,
     "metadata": {},
     "output_type": "execute_result"
    }
   ],
   "source": [
    "s"
   ]
  },
  {
   "cell_type": "code",
   "execution_count": 28,
   "id": "6506b9d9",
   "metadata": {},
   "outputs": [
    {
     "data": {
      "text/plain": [
       "set"
      ]
     },
     "execution_count": 28,
     "metadata": {},
     "output_type": "execute_result"
    }
   ],
   "source": [
    "type(s)"
   ]
  },
  {
   "cell_type": "code",
   "execution_count": 29,
   "id": "536639f9",
   "metadata": {},
   "outputs": [
    {
     "data": {
      "text/plain": [
       "1"
      ]
     },
     "execution_count": 29,
     "metadata": {},
     "output_type": "execute_result"
    }
   ],
   "source": [
    "len(s)"
   ]
  },
  {
   "cell_type": "code",
   "execution_count": 30,
   "id": "a0eb56ce",
   "metadata": {},
   "outputs": [],
   "source": [
    "set1={'three',89,54,'more', 67.7}"
   ]
  },
  {
   "cell_type": "code",
   "execution_count": 31,
   "id": "fd8ad7ea",
   "metadata": {},
   "outputs": [
    {
     "data": {
      "text/plain": [
       "{54, 67.7, 89, 'more', 'three'}"
      ]
     },
     "execution_count": 31,
     "metadata": {},
     "output_type": "execute_result"
    }
   ],
   "source": [
    "set1"
   ]
  },
  {
   "cell_type": "code",
   "execution_count": 32,
   "id": "3e17df7b",
   "metadata": {},
   "outputs": [
    {
     "name": "stdout",
     "output_type": "stream",
     "text": [
      "{67.7, 'more', 54, 89, 'three'}\n"
     ]
    }
   ],
   "source": [
    "print(set1)"
   ]
  },
  {
   "cell_type": "code",
   "execution_count": 34,
   "id": "e5defe27",
   "metadata": {},
   "outputs": [],
   "source": [
    "s1=set('qwert')"
   ]
  },
  {
   "cell_type": "code",
   "execution_count": 35,
   "id": "a04bc20b",
   "metadata": {},
   "outputs": [
    {
     "data": {
      "text/plain": [
       "{'e', 'q', 'r', 't', 'w'}"
      ]
     },
     "execution_count": 35,
     "metadata": {},
     "output_type": "execute_result"
    }
   ],
   "source": [
    "s1"
   ]
  },
  {
   "cell_type": "code",
   "execution_count": 36,
   "id": "bdae6aa2",
   "metadata": {},
   "outputs": [
    {
     "name": "stdout",
     "output_type": "stream",
     "text": [
      "{'w', 't', 'r', 'e', 'q'}\n"
     ]
    }
   ],
   "source": [
    "print(s1)"
   ]
  },
  {
   "cell_type": "code",
   "execution_count": 37,
   "id": "59c401f2",
   "metadata": {},
   "outputs": [
    {
     "data": {
      "text/plain": [
       "5"
      ]
     },
     "execution_count": 37,
     "metadata": {},
     "output_type": "execute_result"
    }
   ],
   "source": [
    "len(s1)\n"
   ]
  },
  {
   "cell_type": "code",
   "execution_count": 38,
   "id": "c38567af",
   "metadata": {},
   "outputs": [],
   "source": [
    "s2={54,34,23,12,45,54,66,23,45}"
   ]
  },
  {
   "cell_type": "code",
   "execution_count": 39,
   "id": "5a1bf5d6",
   "metadata": {},
   "outputs": [
    {
     "data": {
      "text/plain": [
       "{12, 23, 34, 45, 54, 66}"
      ]
     },
     "execution_count": 39,
     "metadata": {},
     "output_type": "execute_result"
    }
   ],
   "source": [
    "s2"
   ]
  },
  {
   "cell_type": "markdown",
   "id": "57ab752e",
   "metadata": {},
   "source": [
    "SET OPERATIONS"
   ]
  },
  {
   "cell_type": "code",
   "execution_count": 41,
   "id": "9b94ce51",
   "metadata": {},
   "outputs": [],
   "source": [
    "s1 ={1,2,3}\n",
    "s2={1,4,5,6}\n",
    "s3=s1.union(s2)"
   ]
  },
  {
   "cell_type": "code",
   "execution_count": 42,
   "id": "64f29f39",
   "metadata": {},
   "outputs": [
    {
     "name": "stdout",
     "output_type": "stream",
     "text": [
      "{1, 2, 3, 4, 5, 6}\n"
     ]
    }
   ],
   "source": [
    "print(s3)"
   ]
  },
  {
   "cell_type": "code",
   "execution_count": 43,
   "id": "a7f61534",
   "metadata": {},
   "outputs": [
    {
     "data": {
      "text/plain": [
       "{1, 2, 3, 4, 5, 6}"
      ]
     },
     "execution_count": 43,
     "metadata": {},
     "output_type": "execute_result"
    }
   ],
   "source": [
    "s3"
   ]
  },
  {
   "cell_type": "code",
   "execution_count": 44,
   "id": "5cff0eec",
   "metadata": {},
   "outputs": [],
   "source": [
    "s4=s1.difference(s2)"
   ]
  },
  {
   "cell_type": "code",
   "execution_count": 45,
   "id": "fd3ec998",
   "metadata": {},
   "outputs": [
    {
     "data": {
      "text/plain": [
       "{2, 3}"
      ]
     },
     "execution_count": 45,
     "metadata": {},
     "output_type": "execute_result"
    }
   ],
   "source": [
    "s4"
   ]
  },
  {
   "cell_type": "code",
   "execution_count": 46,
   "id": "b692afca",
   "metadata": {},
   "outputs": [],
   "source": [
    "s5=s2.difference(s1)"
   ]
  },
  {
   "cell_type": "code",
   "execution_count": 47,
   "id": "e47289b0",
   "metadata": {},
   "outputs": [
    {
     "data": {
      "text/plain": [
       "{4, 5, 6}"
      ]
     },
     "execution_count": 47,
     "metadata": {},
     "output_type": "execute_result"
    }
   ],
   "source": [
    "s5"
   ]
  },
  {
   "cell_type": "code",
   "execution_count": 48,
   "id": "3bd4331b",
   "metadata": {},
   "outputs": [],
   "source": [
    "s=s1.intersection(s2)"
   ]
  },
  {
   "cell_type": "code",
   "execution_count": 49,
   "id": "af4004e0",
   "metadata": {},
   "outputs": [
    {
     "data": {
      "text/plain": [
       "{1}"
      ]
     },
     "execution_count": 49,
     "metadata": {},
     "output_type": "execute_result"
    }
   ],
   "source": [
    "s"
   ]
  },
  {
   "cell_type": "code",
   "execution_count": 1,
   "id": "5bfbe162",
   "metadata": {},
   "outputs": [],
   "source": [
    "s2={23,56,78,89,23,45,56,12}"
   ]
  },
  {
   "cell_type": "code",
   "execution_count": 2,
   "id": "20f92f8e",
   "metadata": {},
   "outputs": [
    {
     "data": {
      "text/plain": [
       "{12, 23, 45, 56, 78, 89}"
      ]
     },
     "execution_count": 2,
     "metadata": {},
     "output_type": "execute_result"
    }
   ],
   "source": [
    "s2"
   ]
  },
  {
   "cell_type": "code",
   "execution_count": 3,
   "id": "2b2bb86c",
   "metadata": {},
   "outputs": [
    {
     "name": "stdout",
     "output_type": "stream",
     "text": [
      "{23, 56, 89, 12, 45, 78}\n"
     ]
    }
   ],
   "source": [
    "print(s2)"
   ]
  },
  {
   "cell_type": "code",
   "execution_count": 4,
   "id": "52e30748",
   "metadata": {},
   "outputs": [],
   "source": [
    "s2.add(66)"
   ]
  },
  {
   "cell_type": "code",
   "execution_count": 5,
   "id": "5fac76dd",
   "metadata": {},
   "outputs": [
    {
     "data": {
      "text/plain": [
       "{12, 23, 45, 56, 66, 78, 89}"
      ]
     },
     "execution_count": 5,
     "metadata": {},
     "output_type": "execute_result"
    }
   ],
   "source": [
    "s2"
   ]
  },
  {
   "cell_type": "code",
   "execution_count": 6,
   "id": "4a6fc925",
   "metadata": {},
   "outputs": [
    {
     "name": "stdout",
     "output_type": "stream",
     "text": [
      "{66, 23, 56, 89, 12, 45, 78}\n"
     ]
    }
   ],
   "source": [
    "print(s2)"
   ]
  },
  {
   "cell_type": "code",
   "execution_count": 7,
   "id": "89db8616",
   "metadata": {},
   "outputs": [],
   "source": [
    "s2.add((56,78))"
   ]
  },
  {
   "cell_type": "code",
   "execution_count": 8,
   "id": "feea9318",
   "metadata": {},
   "outputs": [
    {
     "data": {
      "text/plain": [
       "{(56, 78), 12, 23, 45, 56, 66, 78, 89}"
      ]
     },
     "execution_count": 8,
     "metadata": {},
     "output_type": "execute_result"
    }
   ],
   "source": [
    "s2"
   ]
  },
  {
   "cell_type": "code",
   "execution_count": 9,
   "id": "998ed902",
   "metadata": {},
   "outputs": [
    {
     "data": {
      "text/plain": [
       "8"
      ]
     },
     "execution_count": 9,
     "metadata": {},
     "output_type": "execute_result"
    }
   ],
   "source": [
    "len(s2)"
   ]
  },
  {
   "cell_type": "code",
   "execution_count": 11,
   "id": "fc747bf7",
   "metadata": {},
   "outputs": [],
   "source": [
    "s2.update([55])"
   ]
  },
  {
   "cell_type": "code",
   "execution_count": 12,
   "id": "0049ba76",
   "metadata": {},
   "outputs": [
    {
     "data": {
      "text/plain": [
       "{(56, 78), 12, 23, 45, 55, 56, 66, 78, 89}"
      ]
     },
     "execution_count": 12,
     "metadata": {},
     "output_type": "execute_result"
    }
   ],
   "source": [
    "s2"
   ]
  },
  {
   "cell_type": "code",
   "execution_count": 13,
   "id": "fe2bc86c",
   "metadata": {},
   "outputs": [],
   "source": [
    "s2.update([67,81,18])"
   ]
  },
  {
   "cell_type": "code",
   "execution_count": 14,
   "id": "309f7219",
   "metadata": {},
   "outputs": [
    {
     "data": {
      "text/plain": [
       "{(56, 78), 12, 18, 23, 45, 55, 56, 66, 67, 78, 81, 89}"
      ]
     },
     "execution_count": 14,
     "metadata": {},
     "output_type": "execute_result"
    }
   ],
   "source": [
    "s2"
   ]
  },
  {
   "cell_type": "code",
   "execution_count": 15,
   "id": "ee68fb59",
   "metadata": {},
   "outputs": [],
   "source": [
    "s2.update((23,51,54))"
   ]
  },
  {
   "cell_type": "code",
   "execution_count": 16,
   "id": "1ad153c3",
   "metadata": {},
   "outputs": [
    {
     "data": {
      "text/plain": [
       "{(56, 78), 12, 18, 23, 45, 51, 54, 55, 56, 66, 67, 78, 81, 89}"
      ]
     },
     "execution_count": 16,
     "metadata": {},
     "output_type": "execute_result"
    }
   ],
   "source": [
    "s2"
   ]
  },
  {
   "cell_type": "code",
   "execution_count": 17,
   "id": "5f43866e",
   "metadata": {},
   "outputs": [
    {
     "name": "stdout",
     "output_type": "stream",
     "text": [
      "{66, 67, 12, 78, 81, 18, 23, 89, (56, 78), 45, 51, 54, 55, 56}\n"
     ]
    }
   ],
   "source": [
    "print(s2)"
   ]
  },
  {
   "cell_type": "code",
   "execution_count": 18,
   "id": "e91884e6",
   "metadata": {},
   "outputs": [
    {
     "data": {
      "text/plain": [
       "14"
      ]
     },
     "execution_count": 18,
     "metadata": {},
     "output_type": "execute_result"
    }
   ],
   "source": [
    "len(s2)"
   ]
  },
  {
   "cell_type": "code",
   "execution_count": 19,
   "id": "a2e244d6",
   "metadata": {},
   "outputs": [],
   "source": [
    "s2.update([18,23,62])"
   ]
  },
  {
   "cell_type": "code",
   "execution_count": 20,
   "id": "7bc5c63e",
   "metadata": {},
   "outputs": [
    {
     "data": {
      "text/plain": [
       "{(56, 78), 12, 18, 23, 45, 51, 54, 55, 56, 62, 66, 67, 78, 81, 89}"
      ]
     },
     "execution_count": 20,
     "metadata": {},
     "output_type": "execute_result"
    }
   ],
   "source": [
    "s2"
   ]
  },
  {
   "cell_type": "code",
   "execution_count": 21,
   "id": "000321c0",
   "metadata": {},
   "outputs": [],
   "source": [
    "s2.update('more')"
   ]
  },
  {
   "cell_type": "code",
   "execution_count": 22,
   "id": "bf0a26f8",
   "metadata": {},
   "outputs": [
    {
     "data": {
      "text/plain": [
       "{(56, 78),\n",
       " 12,\n",
       " 18,\n",
       " 23,\n",
       " 45,\n",
       " 51,\n",
       " 54,\n",
       " 55,\n",
       " 56,\n",
       " 62,\n",
       " 66,\n",
       " 67,\n",
       " 78,\n",
       " 81,\n",
       " 89,\n",
       " 'e',\n",
       " 'm',\n",
       " 'o',\n",
       " 'r'}"
      ]
     },
     "execution_count": 22,
     "metadata": {},
     "output_type": "execute_result"
    }
   ],
   "source": [
    "s2"
   ]
  },
  {
   "cell_type": "code",
   "execution_count": 23,
   "id": "ffc0de21",
   "metadata": {},
   "outputs": [
    {
     "name": "stdout",
     "output_type": "stream",
     "text": [
      "66\n",
      "67\n",
      "12\n",
      "78\n",
      "81\n",
      "18\n",
      "23\n",
      "89\n",
      "(56, 78)\n",
      "r\n",
      "45\n",
      "e\n",
      "o\n",
      "51\n",
      "m\n",
      "54\n",
      "55\n",
      "56\n",
      "62\n"
     ]
    }
   ],
   "source": [
    "for i in s2:\n",
    " print(i)"
   ]
  },
  {
   "cell_type": "code",
   "execution_count": 24,
   "id": "301e97d2",
   "metadata": {},
   "outputs": [],
   "source": [
    "s2.add('teena')"
   ]
  },
  {
   "cell_type": "code",
   "execution_count": 25,
   "id": "f1d3f6b0",
   "metadata": {},
   "outputs": [
    {
     "data": {
      "text/plain": [
       "{(56, 78),\n",
       " 12,\n",
       " 18,\n",
       " 23,\n",
       " 45,\n",
       " 51,\n",
       " 54,\n",
       " 55,\n",
       " 56,\n",
       " 62,\n",
       " 66,\n",
       " 67,\n",
       " 78,\n",
       " 81,\n",
       " 89,\n",
       " 'e',\n",
       " 'm',\n",
       " 'o',\n",
       " 'r',\n",
       " 'teena'}"
      ]
     },
     "execution_count": 25,
     "metadata": {},
     "output_type": "execute_result"
    }
   ],
   "source": [
    "s2"
   ]
  },
  {
   "cell_type": "code",
   "execution_count": 28,
   "id": "1481af49",
   "metadata": {},
   "outputs": [],
   "source": [
    "s2.update(['reena','udit','heena'])"
   ]
  },
  {
   "cell_type": "code",
   "execution_count": 29,
   "id": "1fe9dd5f",
   "metadata": {},
   "outputs": [
    {
     "data": {
      "text/plain": [
       "{(56, 78),\n",
       " 12,\n",
       " 18,\n",
       " 23,\n",
       " 45,\n",
       " 51,\n",
       " 54,\n",
       " 55,\n",
       " 56,\n",
       " 62,\n",
       " 66,\n",
       " 67,\n",
       " 78,\n",
       " 81,\n",
       " 89,\n",
       " 'e',\n",
       " 'heena',\n",
       " 'm',\n",
       " 'o',\n",
       " 'r',\n",
       " 'reena',\n",
       " 'teena',\n",
       " 'tina',\n",
       " 'udit'}"
      ]
     },
     "execution_count": 29,
     "metadata": {},
     "output_type": "execute_result"
    }
   ],
   "source": [
    "s2\n"
   ]
  },
  {
   "cell_type": "code",
   "execution_count": 30,
   "id": "b2e5d61e",
   "metadata": {},
   "outputs": [],
   "source": [
    "s2.remove(66)"
   ]
  },
  {
   "cell_type": "code",
   "execution_count": 31,
   "id": "b98a48fd",
   "metadata": {},
   "outputs": [
    {
     "data": {
      "text/plain": [
       "{(56, 78),\n",
       " 12,\n",
       " 18,\n",
       " 23,\n",
       " 45,\n",
       " 51,\n",
       " 54,\n",
       " 55,\n",
       " 56,\n",
       " 62,\n",
       " 67,\n",
       " 78,\n",
       " 81,\n",
       " 89,\n",
       " 'e',\n",
       " 'heena',\n",
       " 'm',\n",
       " 'o',\n",
       " 'r',\n",
       " 'reena',\n",
       " 'teena',\n",
       " 'tina',\n",
       " 'udit'}"
      ]
     },
     "execution_count": 31,
     "metadata": {},
     "output_type": "execute_result"
    }
   ],
   "source": [
    "s2"
   ]
  },
  {
   "cell_type": "code",
   "execution_count": 33,
   "id": "4d299e9c",
   "metadata": {},
   "outputs": [
    {
     "data": {
      "text/plain": [
       "67"
      ]
     },
     "execution_count": 33,
     "metadata": {},
     "output_type": "execute_result"
    }
   ],
   "source": [
    "s2.pop()"
   ]
  },
  {
   "cell_type": "code",
   "execution_count": 34,
   "id": "8738f819",
   "metadata": {},
   "outputs": [
    {
     "name": "stdout",
     "output_type": "stream",
     "text": [
      "{'heena', 12, 78, 81, 18, 23, 89, 'udit', (56, 78), 'tina', 'reena', 'r', 45, 'e', 'o', 51, 'm', 'teena', 54, 55, 56, 62}\n"
     ]
    }
   ],
   "source": [
    "print(s2)"
   ]
  },
  {
   "cell_type": "code",
   "execution_count": 35,
   "id": "6c4efb95",
   "metadata": {},
   "outputs": [
    {
     "data": {
      "text/plain": [
       "'heena'"
      ]
     },
     "execution_count": 35,
     "metadata": {},
     "output_type": "execute_result"
    }
   ],
   "source": [
    "s2.pop()"
   ]
  },
  {
   "cell_type": "code",
   "execution_count": 36,
   "id": "723e3f08",
   "metadata": {},
   "outputs": [
    {
     "name": "stdout",
     "output_type": "stream",
     "text": [
      "{12, 78, 81, 18, 23, 89, 'udit', (56, 78), 'tina', 'reena', 'r', 45, 'e', 'o', 51, 'm', 'teena', 54, 55, 56, 62}\n"
     ]
    }
   ],
   "source": [
    "print(s2)"
   ]
  },
  {
   "cell_type": "code",
   "execution_count": 37,
   "id": "30dabf3f",
   "metadata": {},
   "outputs": [
    {
     "data": {
      "text/plain": [
       "12"
      ]
     },
     "execution_count": 37,
     "metadata": {},
     "output_type": "execute_result"
    }
   ],
   "source": [
    "s2.pop()"
   ]
  },
  {
   "cell_type": "code",
   "execution_count": 38,
   "id": "3c76a340",
   "metadata": {},
   "outputs": [
    {
     "data": {
      "text/plain": [
       "78"
      ]
     },
     "execution_count": 38,
     "metadata": {},
     "output_type": "execute_result"
    }
   ],
   "source": [
    "s2.pop()"
   ]
  },
  {
   "cell_type": "code",
   "execution_count": 39,
   "id": "c9f980aa",
   "metadata": {},
   "outputs": [
    {
     "data": {
      "text/plain": [
       "81"
      ]
     },
     "execution_count": 39,
     "metadata": {},
     "output_type": "execute_result"
    }
   ],
   "source": [
    "s2.pop()"
   ]
  },
  {
   "cell_type": "code",
   "execution_count": 40,
   "id": "52a8dd60",
   "metadata": {},
   "outputs": [
    {
     "name": "stdout",
     "output_type": "stream",
     "text": [
      "{18, 23, 89, 'udit', (56, 78), 'tina', 'reena', 'r', 45, 'e', 'o', 51, 'm', 'teena', 54, 55, 56, 62}\n"
     ]
    }
   ],
   "source": [
    "print(s2)"
   ]
  }
 ],
 "metadata": {
  "kernelspec": {
   "display_name": "Python 3 (ipykernel)",
   "language": "python",
   "name": "python3"
  },
  "language_info": {
   "codemirror_mode": {
    "name": "ipython",
    "version": 3
   },
   "file_extension": ".py",
   "mimetype": "text/x-python",
   "name": "python",
   "nbconvert_exporter": "python",
   "pygments_lexer": "ipython3",
   "version": "3.9.13"
  }
 },
 "nbformat": 4,
 "nbformat_minor": 5
}
